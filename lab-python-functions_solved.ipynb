{
 "cells": [
  {
   "cell_type": "markdown",
   "id": "25d7736c-ba17-4aff-b6bb-66eba20fbf4e",
   "metadata": {},
   "source": [
    "# Lab | Functions"
   ]
  },
  {
   "cell_type": "markdown",
   "id": "0c581062-8967-4d93-b06e-62833222f930",
   "metadata": {
    "tags": []
   },
   "source": [
    "## Exercise: Managing Customer Orders with Functions\n",
    "\n",
    "In the previous exercise, you improved the code for managing customer orders by using loops and flow control. Now, let's take it a step further and refactor the code by introducing functions.\n",
    "\n",
    "Follow the steps below to complete the exercise:\n",
    "\n",
    "1. Define a function named `initialize_inventory` that takes `products` as a parameter. Inside the function, implement the code for initializing the inventory dictionary using a loop and user input.\n",
    "\n",
    "2. Define a function named `get_customer_orders` that takes no parameters. Inside the function, implement the code for prompting the user to enter the product names using a loop. The function should return the `customer_orders` set.\n",
    "\n",
    "3. Define a function named `update_inventory` that takes `customer_orders` and `inventory` as parameters. Inside the function, implement the code for updating the inventory dictionary based on the customer orders.\n",
    "\n",
    "4. Define a function named `calculate_order_statistics` that takes `customer_orders` and `products` as parameters. Inside the function, implement the code for calculating the order statistics (total products ordered, and percentage of unique products ordered). The function should return these values.\n",
    "\n",
    "5. Define a function named `print_order_statistics` that takes `order_statistics` as a parameter. Inside the function, implement the code for printing the order statistics.\n",
    "\n",
    "6. Define a function named `print_updated_inventory` that takes `inventory` as a parameter. Inside the function, implement the code for printing the updated inventory.\n",
    "\n",
    "7. Call the functions in the appropriate sequence to execute the program and manage customer orders.\n",
    "\n",
    "Hints for functions:\n",
    "\n",
    "- Consider the input parameters required for each function and their return values.\n",
    "- Utilize function parameters and return values to transfer data between functions.\n",
    "- Test your functions individually to ensure they work correctly."
   ]
  },
  {
   "cell_type": "markdown",
   "id": "35cd6655",
   "metadata": {
    "vscode": {
     "languageId": "plaintext"
    }
   },
   "source": [
    "1. Define a function named `initialize_inventory` that takes `products` as a parameter. Inside the function, implement the code for initializing the inventory dictionary using a loop and user input."
   ]
  },
  {
   "cell_type": "code",
   "execution_count": 7,
   "id": "bfa9c6b0",
   "metadata": {},
   "outputs": [],
   "source": [
    "products = [\"t-shirt\", \"mug\", \"hat\", \"book\", \"keychain\"]"
   ]
  },
  {
   "cell_type": "code",
   "execution_count": 8,
   "id": "2c7b047c",
   "metadata": {},
   "outputs": [
    {
     "data": {
      "text/plain": [
       "{'t-shirt': 3, 'mug': 4, 'hat': 5, 'book': 6, 'keychain': 7}"
      ]
     },
     "execution_count": 8,
     "metadata": {},
     "output_type": "execute_result"
    }
   ],
   "source": [
    "def initialize_inventory(products: list):\n",
    "    inventory = {}\n",
    "    for  p in products:\n",
    "        qty = input(f\"Please enter an amount for {p}\")\n",
    "        while not qty.isdigit():\n",
    "            print(f\"invalid_quantity for {p}\")\n",
    "            qty = input(f'Plase, enter another amount for {p}')\n",
    "\n",
    "        inventory[p] = int(qty)\n",
    "    return inventory\n",
    "\n",
    "\n",
    "inventory  = initialize_inventory(products)\n",
    "inventory\n"
   ]
  },
  {
   "cell_type": "markdown",
   "id": "2e30f703",
   "metadata": {
    "vscode": {
     "languageId": "plaintext"
    }
   },
   "source": [
    "2. Define a function named `get_customer_orders` that takes no parameters. Inside the function, implement the code for prompting the user to enter the product names using a loop. The function should return the `customer_orders` set."
   ]
  },
  {
   "cell_type": "code",
   "execution_count": 9,
   "id": "eee29dda",
   "metadata": {},
   "outputs": [],
   "source": [
    "customer_orders = set()"
   ]
  },
  {
   "cell_type": "code",
   "execution_count": 10,
   "id": "a2e903b1",
   "metadata": {},
   "outputs": [
    {
     "data": {
      "text/plain": [
       "{'mug'}"
      ]
     },
     "execution_count": 10,
     "metadata": {},
     "output_type": "execute_result"
    }
   ],
   "source": [
    "\n",
    "def get_customer_orders():\n",
    "    orders = input('Order a prodcut:')\n",
    "    if orders not in products:\n",
    "        orders = input('Product not available, please order another product')\n",
    "    else:\n",
    "        customer_orders.add(orders)\n",
    "    questions = input('Would you like to add more porducts(yes/no)')\n",
    "    while questions == 'yes':\n",
    "        orders = input('please, add your new product:')\n",
    "        if orders not in products:\n",
    "            orders = input('Product not available, please order another product')\n",
    "        else:\n",
    "             customer_orders.add(orders)\n",
    "\n",
    "        questions = input('Would you like to add  any more porducts(yes/no)')\n",
    "        if questions == 'no':\n",
    "            print('Thank you for your purchase')\n",
    "    \n",
    "    return customer_orders\n",
    "\n",
    "\n",
    "get_customer_orders()\n"
   ]
  },
  {
   "cell_type": "markdown",
   "id": "b0e535f1",
   "metadata": {
    "vscode": {
     "languageId": "plaintext"
    }
   },
   "source": [
    "3. Define a function named `update_inventory` that takes `customer_orders` and `inventory` as parameters. Inside the function, implement the code for updating the inventory dictionary based on the customer orders."
   ]
  },
  {
   "cell_type": "code",
   "execution_count": 11,
   "id": "10e8b0c7",
   "metadata": {},
   "outputs": [
    {
     "data": {
      "text/plain": [
       "{'t-shirt': 3, 'mug': 3, 'hat': 5, 'book': 6, 'keychain': 7}"
      ]
     },
     "execution_count": 11,
     "metadata": {},
     "output_type": "execute_result"
    }
   ],
   "source": [
    "def update_inventory(customer_orders, inventory):\n",
    "    for k,v in inventory.items():\n",
    "        if k in customer_orders:\n",
    "            if inventory.get(k)<=0:\n",
    "                inventory[k]=0\n",
    "                \n",
    "            else:\n",
    "                inventory[k]=v-1\n",
    "    return inventory\n",
    "\n",
    "\n",
    "update_inventory(customer_orders,inventory)\n",
    "                "
   ]
  },
  {
   "cell_type": "markdown",
   "id": "9597c190",
   "metadata": {
    "vscode": {
     "languageId": "plaintext"
    }
   },
   "source": [
    "4. Define a function named `calculate_order_statistics` that takes `customer_orders` and `products` as parameters. Inside the function, implement the code for calculating the order statistics (total products ordered, and percentage of unique products ordered). The function should return these values."
   ]
  },
  {
   "cell_type": "code",
   "execution_count": 16,
   "id": "af995bee",
   "metadata": {},
   "outputs": [
    {
     "data": {
      "text/plain": [
       "'total products ordered are 1 and no unique products found'"
      ]
     },
     "execution_count": 16,
     "metadata": {},
     "output_type": "execute_result"
    }
   ],
   "source": [
    "def calculate_order_statistics (customer_orders,inventory):\n",
    "    total_products_ordered = len(customer_orders)\n",
    "    unique_values = []\n",
    "    for k,v in inventory.items():\n",
    "        if inventory[k] == 1:\n",
    "            unique_values.append(k)\n",
    "    if len(unique_values)>=1:    \n",
    "        percentage_of_unique_products = round((len(unique_values)) / sum(inventory.values())*100,2)\n",
    "        return (f'total products ordered are {total_products_ordered}'),(f'percentage of unique products is {percentage_of_unique_products}%')\n",
    "    else:\n",
    "        return (f'total products ordered are {total_products_ordered} and no unique products found')\n",
    "\n",
    "calculate_order_statistics(customer_orders,inventory)"
   ]
  },
  {
   "cell_type": "markdown",
   "id": "a3ab25fd",
   "metadata": {},
   "source": [
    "5. Define a function named `print_order_statistics` that takes `order_statistics` as a parameter. Inside the function, implement the code for printing the order statistics."
   ]
  },
  {
   "cell_type": "code",
   "execution_count": 8,
   "id": "63f39eec",
   "metadata": {},
   "outputs": [],
   "source": [
    "\n",
    "\n"
   ]
  },
  {
   "cell_type": "markdown",
   "id": "cc19ddd5",
   "metadata": {},
   "source": [
    "6. Define a function named `print_updated_inventory` that takes `inventory` as a parameter. Inside the function, implement the code for printing the updated inventory."
   ]
  },
  {
   "cell_type": "code",
   "execution_count": 17,
   "id": "15c5aede",
   "metadata": {},
   "outputs": [
    {
     "data": {
      "text/plain": [
       "{'t-shirt': 1, 'mug': 0, 'hat': 0, 'book': 2, 'keychain': 1}"
      ]
     },
     "execution_count": 17,
     "metadata": {},
     "output_type": "execute_result"
    }
   ],
   "source": [
    "def update_inventory(customer_orders, inventory):\n",
    "    for k,v in inventory.items():\n",
    "        if k in customer_orders:\n",
    "            if inventory.get(k)<=0:\n",
    "                inventory[k]=0\n",
    "                \n",
    "            else:\n",
    "                inventory[k]=v-1\n",
    "    return inventory\n",
    "\n",
    "\n",
    "update_inventory(customer_orders,inventory)\n",
    "    \n",
    "    \n"
   ]
  },
  {
   "cell_type": "code",
   "execution_count": null,
   "id": "1725d4da",
   "metadata": {},
   "outputs": [],
   "source": []
  }
 ],
 "metadata": {
  "kernelspec": {
   "display_name": "base",
   "language": "python",
   "name": "python3"
  },
  "language_info": {
   "codemirror_mode": {
    "name": "ipython",
    "version": 3
   },
   "file_extension": ".py",
   "mimetype": "text/x-python",
   "name": "python",
   "nbconvert_exporter": "python",
   "pygments_lexer": "ipython3",
   "version": "3.11.5"
  }
 },
 "nbformat": 4,
 "nbformat_minor": 5
}
